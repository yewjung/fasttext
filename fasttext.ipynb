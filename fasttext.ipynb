{
 "cells": [
  {
   "cell_type": "code",
   "execution_count": 14,
   "metadata": {},
   "outputs": [
    {
     "ename": "AttributeError",
     "evalue": "module 'torchtext.data' has no attribute 'Field'",
     "output_type": "error",
     "traceback": [
      "\u001b[0;31m---------------------------------------------------------------------------\u001b[0m",
      "\u001b[0;31mAttributeError\u001b[0m                            Traceback (most recent call last)",
      "Cell \u001b[0;32mIn[14], line 15\u001b[0m\n\u001b[1;32m     13\u001b[0m vocab \u001b[39m=\u001b[39m build_vocab_from_iterator(\u001b[39mmap\u001b[39m(tokenizer, (data[\u001b[39m1\u001b[39m] \u001b[39mfor\u001b[39;00m data \u001b[39min\u001b[39;00m dataset)), \u001b[39m50\u001b[39m, [\u001b[39m'\u001b[39m\u001b[39m<unk>\u001b[39m\u001b[39m'\u001b[39m])\n\u001b[1;32m     14\u001b[0m vocab\u001b[39m.\u001b[39mset_default_index(vocab[\u001b[39m'\u001b[39m\u001b[39m<unk>\u001b[39m\u001b[39m'\u001b[39m])\n\u001b[0;32m---> 15\u001b[0m TEXT \u001b[39m=\u001b[39m data\u001b[39m.\u001b[39;49mField(lower\u001b[39m=\u001b[39m\u001b[39mTrue\u001b[39;00m, include_lengths\u001b[39m=\u001b[39m\u001b[39mTrue\u001b[39;00m, fix_length\u001b[39m=\u001b[39m\u001b[39m150\u001b[39m, tokenize\u001b[39m=\u001b[39m\u001b[39m'\u001b[39m\u001b[39mspacy\u001b[39m\u001b[39m'\u001b[39m)\n",
      "\u001b[0;31mAttributeError\u001b[0m: module 'torchtext.data' has no attribute 'Field'"
     ]
    }
   ],
   "source": [
    "import torch\n",
    "from torchtext.datasets import IMDB\n",
    "from torchtext.vocab import build_vocab_from_iterator\n",
    "from torchtext.data import to_map_style_dataset\n",
    "from torchtext.data.utils import get_tokenizer\n",
    "import torch.nn as nn\n",
    "\n",
    "\n",
    "\n",
    "dataset = to_map_style_dataset(IMDB(split='train'))\n",
    "tokenizer = get_tokenizer('basic_english', language='en')\n",
    "vocab = build_vocab_from_iterator(map(tokenizer, (data[1] for data in dataset)), 50, ['<unk>'])\n",
    "vocab.set_default_index(vocab['<unk>'])\n"
   ]
  },
  {
   "cell_type": "code",
   "execution_count": null,
   "metadata": {},
   "outputs": [],
   "source": [
    "VOCAB_SIZE = len(vocab)\n",
    "N_EMBED = 300\n",
    "\n",
    "class FastText(nn.Module):\n",
    "\n",
    "    def __init__(self) -> None:\n",
    "        super().__init__()\n",
    "        self.embeddings = nn.Embedding(VOCAB_SIZE, N_EMBED)\n",
    "        self.ln = nn.Linear(N_EMBED, 1)\n",
    "\n",
    "    def forward(self, x, target):\n",
    "        # x = ()\n",
    "        pass"
   ]
  }
 ],
 "metadata": {
  "kernelspec": {
   "display_name": "Python 3",
   "language": "python",
   "name": "python3"
  },
  "language_info": {
   "codemirror_mode": {
    "name": "ipython",
    "version": 3
   },
   "file_extension": ".py",
   "mimetype": "text/x-python",
   "name": "python",
   "nbconvert_exporter": "python",
   "pygments_lexer": "ipython3",
   "version": "3.10.11"
  },
  "orig_nbformat": 4
 },
 "nbformat": 4,
 "nbformat_minor": 2
}
